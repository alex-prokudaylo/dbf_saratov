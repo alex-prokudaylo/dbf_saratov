{
 "cells": [
  {
   "cell_type": "code",
   "execution_count": 1,
   "id": "489c93dd",
   "metadata": {
    "execution": {
     "iopub.execute_input": "2022-09-16T12:21:13.166121Z",
     "iopub.status.busy": "2022-09-16T12:21:13.165132Z",
     "iopub.status.idle": "2022-09-16T12:21:14.796352Z",
     "shell.execute_reply": "2022-09-16T12:21:14.795290Z"
    },
    "id": "iyJdVYzOncBd",
    "papermill": {
     "duration": 1.649167,
     "end_time": "2022-09-16T12:21:14.799657",
     "exception": false,
     "start_time": "2022-09-16T12:21:13.150490",
     "status": "completed"
    },
    "tags": []
   },
   "outputs": [],
   "source": [
    "import pandas as pd\n",
    "import seaborn as sns\n",
    "import numpy as np\n",
    "import matplotlib.pyplot as plt\n",
    "from sklearn.model_selection import train_test_split\n",
    "from sklearn.ensemble import RandomForestClassifier\n",
    "import re\n",
    "\n",
    "from sklearn.feature_extraction.text import CountVectorizer\n",
    "from sklearn.metrics import recall_score\n",
    "from sklearn.metrics import classification_report\n",
    "from sklearn.metrics import confusion_matrix\n",
    "from sklearn.model_selection import GridSearchCV\n",
    "from sklearn import linear_model\n",
    "\n",
    "\n",
    "%matplotlib inline"
   ]
  },
  {
   "cell_type": "code",
   "execution_count": 2,
   "id": "9b46ed16",
   "metadata": {
    "execution": {
     "iopub.execute_input": "2022-09-16T12:21:14.824791Z",
     "iopub.status.busy": "2022-09-16T12:21:14.824384Z",
     "iopub.status.idle": "2022-09-16T12:21:17.024049Z",
     "shell.execute_reply": "2022-09-16T12:21:17.022841Z"
    },
    "id": "4LBwgqxpn54b",
    "papermill": {
     "duration": 2.215587,
     "end_time": "2022-09-16T12:21:17.026843",
     "exception": false,
     "start_time": "2022-09-16T12:21:14.811256",
     "status": "completed"
    },
    "tags": []
   },
   "outputs": [],
   "source": [
    "df = pd.read_csv(\"../input/saratov-train-data/train_dataset_train.csv\")"
   ]
  },
  {
   "cell_type": "code",
   "execution_count": 3,
   "id": "09495510",
   "metadata": {
    "execution": {
     "iopub.execute_input": "2022-09-16T12:21:17.051884Z",
     "iopub.status.busy": "2022-09-16T12:21:17.050806Z",
     "iopub.status.idle": "2022-09-16T12:21:17.071463Z",
     "shell.execute_reply": "2022-09-16T12:21:17.070203Z"
    },
    "papermill": {
     "duration": 0.036155,
     "end_time": "2022-09-16T12:21:17.074191",
     "exception": false,
     "start_time": "2022-09-16T12:21:17.038036",
     "status": "completed"
    },
    "tags": []
   },
   "outputs": [
    {
     "data": {
      "text/html": [
       "<div>\n",
       "<style scoped>\n",
       "    .dataframe tbody tr th:only-of-type {\n",
       "        vertical-align: middle;\n",
       "    }\n",
       "\n",
       "    .dataframe tbody tr th {\n",
       "        vertical-align: top;\n",
       "    }\n",
       "\n",
       "    .dataframe thead th {\n",
       "        text-align: right;\n",
       "    }\n",
       "</style>\n",
       "<table border=\"1\" class=\"dataframe\">\n",
       "  <thead>\n",
       "    <tr style=\"text-align: right;\">\n",
       "      <th></th>\n",
       "      <th>id</th>\n",
       "      <th>name</th>\n",
       "      <th>groups</th>\n",
       "    </tr>\n",
       "  </thead>\n",
       "  <tbody>\n",
       "    <tr>\n",
       "      <th>0</th>\n",
       "      <td>2442477</td>\n",
       "      <td>БЗМЖ Молоко ультропаст.Вкуснотеево900гр.3.2%ПЭТ/б</td>\n",
       "      <td>3</td>\n",
       "    </tr>\n",
       "    <tr>\n",
       "      <th>1</th>\n",
       "      <td>1564599</td>\n",
       "      <td>15.6\" Ноутбук Acer Nitro 5 (AN515-54-58LL)(FHD...</td>\n",
       "      <td>10</td>\n",
       "    </tr>\n",
       "    <tr>\n",
       "      <th>2</th>\n",
       "      <td>841848</td>\n",
       "      <td>ЖЕВ.РЕЗИНКА ОРБИТ НЕЖНАЯ МЯТА XX 46153708</td>\n",
       "      <td>10</td>\n",
       "    </tr>\n",
       "    <tr>\n",
       "      <th>3</th>\n",
       "      <td>960348</td>\n",
       "      <td>Агрикола Грунт универсальный 50 л (Техноэкспор...</td>\n",
       "      <td>10</td>\n",
       "    </tr>\n",
       "    <tr>\n",
       "      <th>4</th>\n",
       "      <td>398622</td>\n",
       "      <td>1. Игристое вино \"Каспийская коллекция\" ЗГУ \"Д...</td>\n",
       "      <td>10</td>\n",
       "    </tr>\n",
       "    <tr>\n",
       "      <th>5</th>\n",
       "      <td>2743476</td>\n",
       "      <td>Напиток Алое Вера б/г 0,5л. ВТ</td>\n",
       "      <td>4</td>\n",
       "    </tr>\n",
       "    <tr>\n",
       "      <th>6</th>\n",
       "      <td>3832875</td>\n",
       "      <td>Воздушный рис Дансония в карамели 30г /32</td>\n",
       "      <td>10</td>\n",
       "    </tr>\n",
       "    <tr>\n",
       "      <th>7</th>\n",
       "      <td>4906316</td>\n",
       "      <td>Салат \"Сельдь под шубой\"  (С)</td>\n",
       "      <td>10</td>\n",
       "    </tr>\n",
       "    <tr>\n",
       "      <th>8</th>\n",
       "      <td>2420905</td>\n",
       "      <td>Молоко пастерил. Резной Палисад 3,4-4% 750г БЗМЖ</td>\n",
       "      <td>3</td>\n",
       "    </tr>\n",
       "    <tr>\n",
       "      <th>9</th>\n",
       "      <td>405595</td>\n",
       "      <td>ВИНО ПИРОСМАНИ КРАСНОЕ ПОЛУСЛАДКОЕ 11,5% 0,75л</td>\n",
       "      <td>10</td>\n",
       "    </tr>\n",
       "  </tbody>\n",
       "</table>\n",
       "</div>"
      ],
      "text/plain": [
       "        id                                               name  groups\n",
       "0  2442477  БЗМЖ Молоко ультропаст.Вкуснотеево900гр.3.2%ПЭТ/б       3\n",
       "1  1564599  15.6\" Ноутбук Acer Nitro 5 (AN515-54-58LL)(FHD...      10\n",
       "2   841848          ЖЕВ.РЕЗИНКА ОРБИТ НЕЖНАЯ МЯТА XX 46153708      10\n",
       "3   960348  Агрикола Грунт универсальный 50 л (Техноэкспор...      10\n",
       "4   398622  1. Игристое вино \"Каспийская коллекция\" ЗГУ \"Д...      10\n",
       "5  2743476                     Напиток Алое Вера б/г 0,5л. ВТ       4\n",
       "6  3832875          Воздушный рис Дансония в карамели 30г /32      10\n",
       "7  4906316                      Салат \"Сельдь под шубой\"  (С)      10\n",
       "8  2420905   Молоко пастерил. Резной Палисад 3,4-4% 750г БЗМЖ       3\n",
       "9   405595     ВИНО ПИРОСМАНИ КРАСНОЕ ПОЛУСЛАДКОЕ 11,5% 0,75л      10"
      ]
     },
     "execution_count": 3,
     "metadata": {},
     "output_type": "execute_result"
    }
   ],
   "source": [
    "df.head(10)"
   ]
  },
  {
   "cell_type": "markdown",
   "id": "a33604d8",
   "metadata": {
    "id": "GywlangPRAEm",
    "papermill": {
     "duration": 0.011143,
     "end_time": "2022-09-16T12:21:17.098492",
     "exception": false,
     "start_time": "2022-09-16T12:21:17.087349",
     "status": "completed"
    },
    "tags": []
   },
   "source": [
    "## Рассмотрим датасет по ближе"
   ]
  },
  {
   "cell_type": "markdown",
   "id": "d74ecf27",
   "metadata": {
    "papermill": {
     "duration": 0.01114,
     "end_time": "2022-09-16T12:21:17.121107",
     "exception": false,
     "start_time": "2022-09-16T12:21:17.109967",
     "status": "completed"
    },
    "tags": []
   },
   "source": [
    "9 Хлебные изделия\n",
    "\n",
    "1 Напитки газированные\n",
    "\n",
    "0 Вода\n",
    "\n",
    "3 Молоко 2.5-3.2 %\n",
    "\n",
    "4 Молочные продукты\n",
    "\n",
    "1 Макароны\n",
    "\n",
    "6 Фрукты\n",
    "\n",
    "7 Продукция общепитов\n",
    "\n",
    "10 Товары без категории"
   ]
  },
  {
   "cell_type": "code",
   "execution_count": 4,
   "id": "719244df",
   "metadata": {
    "execution": {
     "iopub.execute_input": "2022-09-16T12:21:17.145784Z",
     "iopub.status.busy": "2022-09-16T12:21:17.145378Z",
     "iopub.status.idle": "2022-09-16T12:21:17.166519Z",
     "shell.execute_reply": "2022-09-16T12:21:17.165282Z"
    },
    "id": "gvcl_K3FQ-os",
    "outputId": "05646ca9-7c12-4160-8e91-2f71c91aca54",
    "papermill": {
     "duration": 0.036282,
     "end_time": "2022-09-16T12:21:17.168846",
     "exception": false,
     "start_time": "2022-09-16T12:21:17.132564",
     "status": "completed"
    },
    "tags": []
   },
   "outputs": [
    {
     "data": {
      "text/plain": [
       "10    502764\n",
       "9      42002\n",
       "4      27591\n",
       "0      21566\n",
       "3      21045\n",
       "1      17136\n",
       "7      12051\n",
       "6      10007\n",
       "2       3902\n",
       "Name: groups, dtype: int64"
      ]
     },
     "execution_count": 4,
     "metadata": {},
     "output_type": "execute_result"
    }
   ],
   "source": [
    "df.groups.value_counts()"
   ]
  },
  {
   "cell_type": "code",
   "execution_count": null,
   "id": "5e26a8a4",
   "metadata": {
    "papermill": {
     "duration": 0.011611,
     "end_time": "2022-09-16T12:21:17.192053",
     "exception": false,
     "start_time": "2022-09-16T12:21:17.180442",
     "status": "completed"
    },
    "tags": []
   },
   "outputs": [],
   "source": []
  },
  {
   "cell_type": "code",
   "execution_count": 5,
   "id": "86eefa15",
   "metadata": {
    "execution": {
     "iopub.execute_input": "2022-09-16T12:21:17.218155Z",
     "iopub.status.busy": "2022-09-16T12:21:17.217013Z",
     "iopub.status.idle": "2022-09-16T12:21:18.677243Z",
     "shell.execute_reply": "2022-09-16T12:21:18.676094Z"
    },
    "papermill": {
     "duration": 1.476265,
     "end_time": "2022-09-16T12:21:18.680150",
     "exception": false,
     "start_time": "2022-09-16T12:21:17.203885",
     "status": "completed"
    },
    "tags": []
   },
   "outputs": [],
   "source": [
    "df[\"milk_percent\"] = df.name.apply(lambda text: 1 if re.match(r'.+(3\\.2)|(2\\.5).+', text) else 0)"
   ]
  },
  {
   "cell_type": "code",
   "execution_count": 6,
   "id": "72e45e74",
   "metadata": {
    "execution": {
     "iopub.execute_input": "2022-09-16T12:21:18.705907Z",
     "iopub.status.busy": "2022-09-16T12:21:18.705188Z",
     "iopub.status.idle": "2022-09-16T12:21:18.733343Z",
     "shell.execute_reply": "2022-09-16T12:21:18.732028Z"
    },
    "papermill": {
     "duration": 0.044278,
     "end_time": "2022-09-16T12:21:18.735974",
     "exception": false,
     "start_time": "2022-09-16T12:21:18.691696",
     "status": "completed"
    },
    "tags": []
   },
   "outputs": [
    {
     "data": {
      "text/plain": [
       "3     817\n",
       "10    681\n",
       "2      48\n",
       "4      13\n",
       "7       8\n",
       "0       5\n",
       "1       3\n",
       "9       2\n",
       "6       2\n",
       "Name: groups, dtype: int64"
      ]
     },
     "execution_count": 6,
     "metadata": {},
     "output_type": "execute_result"
    }
   ],
   "source": [
    "df[df[\"milk_percent\"] == 1].groups.value_counts()"
   ]
  },
  {
   "cell_type": "code",
   "execution_count": 7,
   "id": "734e1cbe",
   "metadata": {
    "execution": {
     "iopub.execute_input": "2022-09-16T12:21:18.762676Z",
     "iopub.status.busy": "2022-09-16T12:21:18.761303Z",
     "iopub.status.idle": "2022-09-16T12:21:33.140888Z",
     "shell.execute_reply": "2022-09-16T12:21:33.139333Z"
    },
    "papermill": {
     "duration": 14.39591,
     "end_time": "2022-09-16T12:21:33.143952",
     "exception": false,
     "start_time": "2022-09-16T12:21:18.748042",
     "status": "completed"
    },
    "tags": []
   },
   "outputs": [
    {
     "name": "stdout",
     "output_type": "stream",
     "text": [
      "Collecting pymorphy2\r\n",
      "  Downloading pymorphy2-0.9.1-py3-none-any.whl (55 kB)\r\n",
      "\u001b[2K     \u001b[90m━━━━━━━━━━━━━━━━━━━━━━━━━━━━━━━━━━━━━━━\u001b[0m \u001b[32m55.5/55.5 kB\u001b[0m \u001b[31m609.7 kB/s\u001b[0m eta \u001b[36m0:00:00\u001b[0m\r\n",
      "\u001b[?25hRequirement already satisfied: docopt>=0.6 in /opt/conda/lib/python3.7/site-packages (from pymorphy2) (0.6.2)\r\n",
      "Collecting pymorphy2-dicts-ru<3.0,>=2.4\r\n",
      "  Downloading pymorphy2_dicts_ru-2.4.417127.4579844-py2.py3-none-any.whl (8.2 MB)\r\n",
      "\u001b[2K     \u001b[90m━━━━━━━━━━━━━━━━━━━━━━━━━━━━━━━━━━━━━━━━\u001b[0m \u001b[32m8.2/8.2 MB\u001b[0m \u001b[31m17.0 MB/s\u001b[0m eta \u001b[36m0:00:00\u001b[0m\r\n",
      "\u001b[?25hCollecting dawg-python>=0.7.1\r\n",
      "  Downloading DAWG_Python-0.7.2-py2.py3-none-any.whl (11 kB)\r\n",
      "Installing collected packages: pymorphy2-dicts-ru, dawg-python, pymorphy2\r\n",
      "Successfully installed dawg-python-0.7.2 pymorphy2-0.9.1 pymorphy2-dicts-ru-2.4.417127.4579844\r\n",
      "\u001b[33mWARNING: Running pip as the 'root' user can result in broken permissions and conflicting behaviour with the system package manager. It is recommended to use a virtual environment instead: https://pip.pypa.io/warnings/venv\u001b[0m\u001b[33m\r\n",
      "\u001b[0m"
     ]
    }
   ],
   "source": [
    "!pip install pymorphy2"
   ]
  },
  {
   "cell_type": "code",
   "execution_count": 8,
   "id": "f263f8ef",
   "metadata": {
    "execution": {
     "iopub.execute_input": "2022-09-16T12:21:33.173160Z",
     "iopub.status.busy": "2022-09-16T12:21:33.172740Z",
     "iopub.status.idle": "2022-09-16T12:21:34.076094Z",
     "shell.execute_reply": "2022-09-16T12:21:34.074636Z"
    },
    "papermill": {
     "duration": 0.921264,
     "end_time": "2022-09-16T12:21:34.078742",
     "exception": false,
     "start_time": "2022-09-16T12:21:33.157478",
     "status": "completed"
    },
    "tags": []
   },
   "outputs": [
    {
     "name": "stderr",
     "output_type": "stream",
     "text": [
      "[nltk_data] Downloading package stopwords to /usr/share/nltk_data...\n",
      "[nltk_data]   Package stopwords is already up-to-date!\n"
     ]
    }
   ],
   "source": [
    "import nltk\n",
    "\n",
    "import pymorphy2\n",
    "\n",
    "word_tokenaizer = nltk.WordPunctTokenizer()\n",
    "\n",
    "morph = pymorphy2.MorphAnalyzer()\n",
    "\n",
    "nltk.download('stopwords')\n",
    "stop_words = nltk.corpus.stopwords.words('russian')"
   ]
  },
  {
   "cell_type": "code",
   "execution_count": 9,
   "id": "31862422",
   "metadata": {
    "execution": {
     "iopub.execute_input": "2022-09-16T12:21:34.107433Z",
     "iopub.status.busy": "2022-09-16T12:21:34.106967Z",
     "iopub.status.idle": "2022-09-16T12:21:34.114651Z",
     "shell.execute_reply": "2022-09-16T12:21:34.113350Z"
    },
    "papermill": {
     "duration": 0.024901,
     "end_time": "2022-09-16T12:21:34.117011",
     "exception": false,
     "start_time": "2022-09-16T12:21:34.092110",
     "status": "completed"
    },
    "tags": []
   },
   "outputs": [
    {
     "data": {
      "text/plain": [
       "(658064, 4)"
      ]
     },
     "execution_count": 9,
     "metadata": {},
     "output_type": "execute_result"
    }
   ],
   "source": [
    "df.shape"
   ]
  },
  {
   "cell_type": "code",
   "execution_count": 10,
   "id": "62787af7",
   "metadata": {
    "execution": {
     "iopub.execute_input": "2022-09-16T12:21:34.145101Z",
     "iopub.status.busy": "2022-09-16T12:21:34.144720Z",
     "iopub.status.idle": "2022-09-16T12:21:37.281787Z",
     "shell.execute_reply": "2022-09-16T12:21:37.280507Z"
    },
    "papermill": {
     "duration": 3.154471,
     "end_time": "2022-09-16T12:21:37.284787",
     "exception": false,
     "start_time": "2022-09-16T12:21:34.130316",
     "status": "completed"
    },
    "tags": []
   },
   "outputs": [
    {
     "name": "stdout",
     "output_type": "stream",
     "text": [
      "CPU times: user 2.74 s, sys: 387 ms, total: 3.13 s\n",
      "Wall time: 3.13 s\n"
     ]
    },
    {
     "data": {
      "text/plain": [
       "0         [БЗМЖ, Молоко, ультропаст, Вкуснотеево900гр, 3...\n",
       "1         [15, 6\", Ноутбук, Acer, Nitro, 5, (AN515-54-58...\n",
       "2         [ЖЕВ, РЕЗИНКА, ОРБИТ, НЕЖНАЯ, МЯТА, XX, 46153708]\n",
       "3         [Агрикола, Грунт, универсальный, 50, л, (Техно...\n",
       "4         [1, , Игристое, вино, \"Каспийская, коллекция\",...\n",
       "                                ...                        \n",
       "658059              [8714100917541, ШАМПУНЬ, TRESEMME, BEA]\n",
       "658060    [1/1, Ксилен, 0, 1%, капли, назальные, 10мл, ф...\n",
       "658061             [СЫР, колбасный, ЯНТАРЬ, 1, кг, Воронеж]\n",
       "658062                [Боди, длинный, рукав, для, девочек:]\n",
       "658063         [1*2504, Вода, АКВА, МИНЕРАЛЕ, питьевая, 5л]\n",
       "Name: name, Length: 658064, dtype: object"
      ]
     },
     "execution_count": 10,
     "metadata": {},
     "output_type": "execute_result"
    }
   ],
   "source": [
    "%%time\n",
    "sample_size = 30000\n",
    "\n",
    "df_sample = df#.sample(sample_size)\n",
    "df_sample_splited = df_sample.name.str.split(r\"\\.|,| \")\n",
    "df_sample_splited"
   ]
  },
  {
   "cell_type": "code",
   "execution_count": 11,
   "id": "bfd33c50",
   "metadata": {
    "execution": {
     "iopub.execute_input": "2022-09-16T12:21:37.314109Z",
     "iopub.status.busy": "2022-09-16T12:21:37.312983Z",
     "iopub.status.idle": "2022-09-16T12:21:37.320644Z",
     "shell.execute_reply": "2022-09-16T12:21:37.319607Z"
    },
    "papermill": {
     "duration": 0.02448,
     "end_time": "2022-09-16T12:21:37.322915",
     "exception": false,
     "start_time": "2022-09-16T12:21:37.298435",
     "status": "completed"
    },
    "tags": []
   },
   "outputs": [],
   "source": [
    "def text_processing(text):\n",
    "    \n",
    "    # нижний регистр\n",
    "    #убираем, всё кроме букв и цифр.\n",
    "    word_list = [word.lower() for word in text if re.match(r'^[а-яА-ЯёЁ]+$', word)]\n",
    "    \n",
    "    #убираем стоп слова\n",
    "    word_list = [word for word in word_list if word not in stop_words]\n",
    "    \n",
    "    # леммезация\n",
    "    out_text = ''\n",
    "    for word in word_list:\n",
    "        #out_text += morph.parse(word)[0].normal_form + \" \" \n",
    "        out_text += word + \" \" \n",
    "    \n",
    "    return out_text"
   ]
  },
  {
   "cell_type": "code",
   "execution_count": 12,
   "id": "23df138a",
   "metadata": {
    "execution": {
     "iopub.execute_input": "2022-09-16T12:21:37.351233Z",
     "iopub.status.busy": "2022-09-16T12:21:37.350801Z",
     "iopub.status.idle": "2022-09-16T12:21:50.848138Z",
     "shell.execute_reply": "2022-09-16T12:21:50.846775Z"
    },
    "papermill": {
     "duration": 13.514522,
     "end_time": "2022-09-16T12:21:50.850656",
     "exception": false,
     "start_time": "2022-09-16T12:21:37.336134",
     "status": "completed"
    },
    "tags": []
   },
   "outputs": [
    {
     "name": "stdout",
     "output_type": "stream",
     "text": [
      "CPU times: user 13.4 s, sys: 99.9 ms, total: 13.5 s\n",
      "Wall time: 13.5 s\n"
     ]
    }
   ],
   "source": [
    "%%time\n",
    "df_sample[\"lemmed_text\"] = df_sample_splited.apply(lambda a: text_processing(a))"
   ]
  },
  {
   "cell_type": "code",
   "execution_count": 13,
   "id": "51965627",
   "metadata": {
    "execution": {
     "iopub.execute_input": "2022-09-16T12:21:50.879442Z",
     "iopub.status.busy": "2022-09-16T12:21:50.878989Z",
     "iopub.status.idle": "2022-09-16T12:21:50.896271Z",
     "shell.execute_reply": "2022-09-16T12:21:50.895020Z"
    },
    "papermill": {
     "duration": 0.034801,
     "end_time": "2022-09-16T12:21:50.898990",
     "exception": false,
     "start_time": "2022-09-16T12:21:50.864189",
     "status": "completed"
    },
    "tags": []
   },
   "outputs": [
    {
     "data": {
      "text/html": [
       "<div>\n",
       "<style scoped>\n",
       "    .dataframe tbody tr th:only-of-type {\n",
       "        vertical-align: middle;\n",
       "    }\n",
       "\n",
       "    .dataframe tbody tr th {\n",
       "        vertical-align: top;\n",
       "    }\n",
       "\n",
       "    .dataframe thead th {\n",
       "        text-align: right;\n",
       "    }\n",
       "</style>\n",
       "<table border=\"1\" class=\"dataframe\">\n",
       "  <thead>\n",
       "    <tr style=\"text-align: right;\">\n",
       "      <th></th>\n",
       "      <th>id</th>\n",
       "      <th>name</th>\n",
       "      <th>groups</th>\n",
       "      <th>milk_percent</th>\n",
       "      <th>lemmed_text</th>\n",
       "    </tr>\n",
       "  </thead>\n",
       "  <tbody>\n",
       "    <tr>\n",
       "      <th>0</th>\n",
       "      <td>2442477</td>\n",
       "      <td>БЗМЖ Молоко ультропаст.Вкуснотеево900гр.3.2%ПЭТ/б</td>\n",
       "      <td>3</td>\n",
       "      <td>1</td>\n",
       "      <td>бзмж молоко ультропаст</td>\n",
       "    </tr>\n",
       "    <tr>\n",
       "      <th>1</th>\n",
       "      <td>1564599</td>\n",
       "      <td>15.6\" Ноутбук Acer Nitro 5 (AN515-54-58LL)(FHD...</td>\n",
       "      <td>10</td>\n",
       "      <td>0</td>\n",
       "      <td>ноутбук</td>\n",
       "    </tr>\n",
       "    <tr>\n",
       "      <th>2</th>\n",
       "      <td>841848</td>\n",
       "      <td>ЖЕВ.РЕЗИНКА ОРБИТ НЕЖНАЯ МЯТА XX 46153708</td>\n",
       "      <td>10</td>\n",
       "      <td>0</td>\n",
       "      <td>жев резинка орбит нежная мята</td>\n",
       "    </tr>\n",
       "    <tr>\n",
       "      <th>3</th>\n",
       "      <td>960348</td>\n",
       "      <td>Агрикола Грунт универсальный 50 л (Техноэкспор...</td>\n",
       "      <td>10</td>\n",
       "      <td>0</td>\n",
       "      <td>агрикола грунт универсальный л</td>\n",
       "    </tr>\n",
       "    <tr>\n",
       "      <th>4</th>\n",
       "      <td>398622</td>\n",
       "      <td>1. Игристое вино \"Каспийская коллекция\" ЗГУ \"Д...</td>\n",
       "      <td>10</td>\n",
       "      <td>0</td>\n",
       "      <td>игристое вино згу белое россия</td>\n",
       "    </tr>\n",
       "    <tr>\n",
       "      <th>...</th>\n",
       "      <td>...</td>\n",
       "      <td>...</td>\n",
       "      <td>...</td>\n",
       "      <td>...</td>\n",
       "      <td>...</td>\n",
       "    </tr>\n",
       "    <tr>\n",
       "      <th>658059</th>\n",
       "      <td>5324046</td>\n",
       "      <td>8714100917541 ШАМПУНЬ TRESEMME BEA</td>\n",
       "      <td>10</td>\n",
       "      <td>0</td>\n",
       "      <td>шампунь</td>\n",
       "    </tr>\n",
       "    <tr>\n",
       "      <th>658060</th>\n",
       "      <td>2971888</td>\n",
       "      <td>1/1 Ксилен 0.1% капли назальные 10мл фл.-кап. ...</td>\n",
       "      <td>10</td>\n",
       "      <td>0</td>\n",
       "      <td>ксилен капли назальные фл полимер</td>\n",
       "    </tr>\n",
       "    <tr>\n",
       "      <th>658061</th>\n",
       "      <td>4713243</td>\n",
       "      <td>СЫР колбасный ЯНТАРЬ 1 кг Воронеж</td>\n",
       "      <td>10</td>\n",
       "      <td>0</td>\n",
       "      <td>сыр колбасный янтарь кг воронеж</td>\n",
       "    </tr>\n",
       "    <tr>\n",
       "      <th>658062</th>\n",
       "      <td>152642</td>\n",
       "      <td>Боди длинный рукав для девочек:</td>\n",
       "      <td>10</td>\n",
       "      <td>0</td>\n",
       "      <td>боди длинный рукав</td>\n",
       "    </tr>\n",
       "    <tr>\n",
       "      <th>658063</th>\n",
       "      <td>494535</td>\n",
       "      <td>1*2504 Вода АКВА МИНЕРАЛЕ питьевая 5л</td>\n",
       "      <td>0</td>\n",
       "      <td>0</td>\n",
       "      <td>вода аква минерале питьевая</td>\n",
       "    </tr>\n",
       "  </tbody>\n",
       "</table>\n",
       "<p>658064 rows × 5 columns</p>\n",
       "</div>"
      ],
      "text/plain": [
       "             id                                               name  groups  \\\n",
       "0       2442477  БЗМЖ Молоко ультропаст.Вкуснотеево900гр.3.2%ПЭТ/б       3   \n",
       "1       1564599  15.6\" Ноутбук Acer Nitro 5 (AN515-54-58LL)(FHD...      10   \n",
       "2        841848          ЖЕВ.РЕЗИНКА ОРБИТ НЕЖНАЯ МЯТА XX 46153708      10   \n",
       "3        960348  Агрикола Грунт универсальный 50 л (Техноэкспор...      10   \n",
       "4        398622  1. Игристое вино \"Каспийская коллекция\" ЗГУ \"Д...      10   \n",
       "...         ...                                                ...     ...   \n",
       "658059  5324046                 8714100917541 ШАМПУНЬ TRESEMME BEA      10   \n",
       "658060  2971888  1/1 Ксилен 0.1% капли назальные 10мл фл.-кап. ...      10   \n",
       "658061  4713243                  СЫР колбасный ЯНТАРЬ 1 кг Воронеж      10   \n",
       "658062   152642                    Боди длинный рукав для девочек:      10   \n",
       "658063   494535              1*2504 Вода АКВА МИНЕРАЛЕ питьевая 5л       0   \n",
       "\n",
       "        milk_percent                         lemmed_text  \n",
       "0                  1             бзмж молоко ультропаст   \n",
       "1                  0                            ноутбук   \n",
       "2                  0      жев резинка орбит нежная мята   \n",
       "3                  0     агрикола грунт универсальный л   \n",
       "4                  0     игристое вино згу белое россия   \n",
       "...              ...                                 ...  \n",
       "658059             0                            шампунь   \n",
       "658060             0  ксилен капли назальные фл полимер   \n",
       "658061             0    сыр колбасный янтарь кг воронеж   \n",
       "658062             0                 боди длинный рукав   \n",
       "658063             0        вода аква минерале питьевая   \n",
       "\n",
       "[658064 rows x 5 columns]"
      ]
     },
     "execution_count": 13,
     "metadata": {},
     "output_type": "execute_result"
    }
   ],
   "source": [
    "df_sample"
   ]
  },
  {
   "cell_type": "code",
   "execution_count": 14,
   "id": "e332754b",
   "metadata": {
    "execution": {
     "iopub.execute_input": "2022-09-16T12:21:50.928516Z",
     "iopub.status.busy": "2022-09-16T12:21:50.928076Z",
     "iopub.status.idle": "2022-09-16T12:21:50.932859Z",
     "shell.execute_reply": "2022-09-16T12:21:50.931639Z"
    },
    "papermill": {
     "duration": 0.022276,
     "end_time": "2022-09-16T12:21:50.935123",
     "exception": false,
     "start_time": "2022-09-16T12:21:50.912847",
     "status": "completed"
    },
    "tags": []
   },
   "outputs": [],
   "source": [
    "# Макароны сильно зашумлены\n",
    "# оставим только самые правильные \n",
    "\n",
    "#group1_data = df_sample[df_sample.groups == 1]\n",
    "\n",
    "#vectorizer_group1 = CountVectorizer(max_features = 50, min_df=5)\n",
    "#group1_vect = vectorizer_group1.fit_transform(df_sample[df_sample.groups == 1].lemmed_text)\n",
    "\n",
    "#vectorizer_group1.vocabulary_.keys()"
   ]
  },
  {
   "cell_type": "code",
   "execution_count": 15,
   "id": "77c99ff6",
   "metadata": {
    "execution": {
     "iopub.execute_input": "2022-09-16T12:21:50.964159Z",
     "iopub.status.busy": "2022-09-16T12:21:50.963765Z",
     "iopub.status.idle": "2022-09-16T12:21:50.968878Z",
     "shell.execute_reply": "2022-09-16T12:21:50.967638Z"
    },
    "papermill": {
     "duration": 0.022551,
     "end_time": "2022-09-16T12:21:50.971362",
     "exception": false,
     "start_time": "2022-09-16T12:21:50.948811",
     "status": "completed"
    },
    "tags": []
   },
   "outputs": [],
   "source": [
    "#group1_data"
   ]
  },
  {
   "cell_type": "code",
   "execution_count": 16,
   "id": "825792f7",
   "metadata": {
    "execution": {
     "iopub.execute_input": "2022-09-16T12:21:51.002324Z",
     "iopub.status.busy": "2022-09-16T12:21:51.001252Z",
     "iopub.status.idle": "2022-09-16T12:21:51.007707Z",
     "shell.execute_reply": "2022-09-16T12:21:51.006710Z"
    },
    "papermill": {
     "duration": 0.024859,
     "end_time": "2022-09-16T12:21:51.009973",
     "exception": false,
     "start_time": "2022-09-16T12:21:50.985114",
     "status": "completed"
    },
    "tags": []
   },
   "outputs": [],
   "source": [
    "#vectorizer_group1.vocabulary_"
   ]
  },
  {
   "cell_type": "code",
   "execution_count": 17,
   "id": "a56f5d76",
   "metadata": {
    "execution": {
     "iopub.execute_input": "2022-09-16T12:21:51.040136Z",
     "iopub.status.busy": "2022-09-16T12:21:51.039719Z",
     "iopub.status.idle": "2022-09-16T12:21:51.044079Z",
     "shell.execute_reply": "2022-09-16T12:21:51.043284Z"
    },
    "papermill": {
     "duration": 0.022563,
     "end_time": "2022-09-16T12:21:51.046387",
     "exception": false,
     "start_time": "2022-09-16T12:21:51.023824",
     "status": "completed"
    },
    "tags": []
   },
   "outputs": [],
   "source": [
    "#group1_data[\"grpup1_cnt\"] = np.sum(group1_vect.toarray(),-1)\n",
    "#group1_false_index = group1_data[group1_data.grpup1_cnt == 0].index\n",
    "#group1_false_index.shape"
   ]
  },
  {
   "cell_type": "code",
   "execution_count": 18,
   "id": "4e607506",
   "metadata": {
    "execution": {
     "iopub.execute_input": "2022-09-16T12:21:51.076305Z",
     "iopub.status.busy": "2022-09-16T12:21:51.075402Z",
     "iopub.status.idle": "2022-09-16T12:21:51.079763Z",
     "shell.execute_reply": "2022-09-16T12:21:51.078688Z"
    },
    "papermill": {
     "duration": 0.02134,
     "end_time": "2022-09-16T12:21:51.081810",
     "exception": false,
     "start_time": "2022-09-16T12:21:51.060470",
     "status": "completed"
    },
    "tags": []
   },
   "outputs": [],
   "source": [
    "#print(df_sample.shape)\n",
    "#df_sample_ = df_sample.drop(group1_false_index, axis=0)\n",
    "#print(df_sample_.shape)"
   ]
  },
  {
   "cell_type": "code",
   "execution_count": 19,
   "id": "4a820872",
   "metadata": {
    "execution": {
     "iopub.execute_input": "2022-09-16T12:21:51.111446Z",
     "iopub.status.busy": "2022-09-16T12:21:51.110778Z",
     "iopub.status.idle": "2022-09-16T12:21:55.764253Z",
     "shell.execute_reply": "2022-09-16T12:21:55.762829Z"
    },
    "papermill": {
     "duration": 4.671534,
     "end_time": "2022-09-16T12:21:55.767024",
     "exception": false,
     "start_time": "2022-09-16T12:21:51.095490",
     "status": "completed"
    },
    "tags": []
   },
   "outputs": [
    {
     "data": {
      "text/plain": [
       "<658064x8000 sparse matrix of type '<class 'numpy.int64'>'\n",
       "\twith 2019083 stored elements in Compressed Sparse Row format>"
      ]
     },
     "execution_count": 19,
     "metadata": {},
     "output_type": "execute_result"
    }
   ],
   "source": [
    "\n",
    "vectorizer = CountVectorizer(max_features=8000, min_df=4)\n",
    "\n",
    "X = vectorizer.fit_transform(df_sample.lemmed_text)\n",
    "y = df_sample.groups\n",
    "X"
   ]
  },
  {
   "cell_type": "code",
   "execution_count": 20,
   "id": "72c4a265",
   "metadata": {
    "execution": {
     "iopub.execute_input": "2022-09-16T12:21:55.796894Z",
     "iopub.status.busy": "2022-09-16T12:21:55.796467Z",
     "iopub.status.idle": "2022-09-16T12:21:55.801316Z",
     "shell.execute_reply": "2022-09-16T12:21:55.800053Z"
    },
    "papermill": {
     "duration": 0.022593,
     "end_time": "2022-09-16T12:21:55.803664",
     "exception": false,
     "start_time": "2022-09-16T12:21:55.781071",
     "status": "completed"
    },
    "tags": []
   },
   "outputs": [],
   "source": [
    "#vectorizer.vocabulary_"
   ]
  },
  {
   "cell_type": "code",
   "execution_count": 21,
   "id": "8b380d0e",
   "metadata": {
    "execution": {
     "iopub.execute_input": "2022-09-16T12:21:55.833370Z",
     "iopub.status.busy": "2022-09-16T12:21:55.832969Z",
     "iopub.status.idle": "2022-09-16T12:21:55.938532Z",
     "shell.execute_reply": "2022-09-16T12:21:55.937151Z"
    },
    "papermill": {
     "duration": 0.123866,
     "end_time": "2022-09-16T12:21:55.941477",
     "exception": false,
     "start_time": "2022-09-16T12:21:55.817611",
     "status": "completed"
    },
    "tags": []
   },
   "outputs": [],
   "source": [
    "from scipy.sparse import coo_matrix, hstack\n",
    "#coo_matrix(df.head(10000).milk_percent.values).transpose()\n",
    "#XX = hstack([X, coo_matrix(df_sample.milk_percent.values).transpose()])\n",
    "\n",
    "XX = hstack([X, coo_matrix(df_sample.id.values).transpose()])"
   ]
  },
  {
   "cell_type": "markdown",
   "id": "9b45b4d4",
   "metadata": {
    "id": "870l_9AGdTvF",
    "papermill": {
     "duration": 0.014326,
     "end_time": "2022-09-16T12:21:55.969510",
     "exception": false,
     "start_time": "2022-09-16T12:21:55.955184",
     "status": "completed"
    },
    "tags": []
   },
   "source": [
    "## Выделим выборки"
   ]
  },
  {
   "cell_type": "code",
   "execution_count": 22,
   "id": "71f40ccd",
   "metadata": {
    "execution": {
     "iopub.execute_input": "2022-09-16T12:21:55.999242Z",
     "iopub.status.busy": "2022-09-16T12:21:55.998615Z",
     "iopub.status.idle": "2022-09-16T12:21:56.113282Z",
     "shell.execute_reply": "2022-09-16T12:21:56.111917Z"
    },
    "id": "_e7ZJ3QjdZLW",
    "papermill": {
     "duration": 0.133142,
     "end_time": "2022-09-16T12:21:56.116171",
     "exception": false,
     "start_time": "2022-09-16T12:21:55.983029",
     "status": "completed"
    },
    "tags": []
   },
   "outputs": [],
   "source": [
    "X_train, X_test, y_train, y_test = train_test_split(X, y, train_size=0.8, test_size=0.2, random_state=42)"
   ]
  },
  {
   "cell_type": "code",
   "execution_count": 23,
   "id": "3660d1b5",
   "metadata": {
    "execution": {
     "iopub.execute_input": "2022-09-16T12:21:56.145916Z",
     "iopub.status.busy": "2022-09-16T12:21:56.145482Z",
     "iopub.status.idle": "2022-09-16T12:21:56.151511Z",
     "shell.execute_reply": "2022-09-16T12:21:56.150228Z"
    },
    "papermill": {
     "duration": 0.025166,
     "end_time": "2022-09-16T12:21:56.155219",
     "exception": false,
     "start_time": "2022-09-16T12:21:56.130053",
     "status": "completed"
    },
    "tags": []
   },
   "outputs": [
    {
     "name": "stdout",
     "output_type": "stream",
     "text": [
      "(526451, 8000) (131613, 8000)\n"
     ]
    }
   ],
   "source": [
    "print(X_train.shape, X_test.shape)"
   ]
  },
  {
   "cell_type": "markdown",
   "id": "94eb37f0",
   "metadata": {
    "id": "wWOMlu5megED",
    "papermill": {
     "duration": 0.014036,
     "end_time": "2022-09-16T12:21:56.185383",
     "exception": false,
     "start_time": "2022-09-16T12:21:56.171347",
     "status": "completed"
    },
    "tags": []
   },
   "source": [
    "## Обучение модели"
   ]
  },
  {
   "cell_type": "code",
   "execution_count": 24,
   "id": "6924e19f",
   "metadata": {
    "execution": {
     "iopub.execute_input": "2022-09-16T12:21:56.215014Z",
     "iopub.status.busy": "2022-09-16T12:21:56.214623Z",
     "iopub.status.idle": "2022-09-16T17:30:13.834322Z",
     "shell.execute_reply": "2022-09-16T17:30:13.833171Z"
    },
    "papermill": {
     "duration": 18497.65243,
     "end_time": "2022-09-16T17:30:13.851738",
     "exception": false,
     "start_time": "2022-09-16T12:21:56.199308",
     "status": "completed"
    },
    "tags": []
   },
   "outputs": [
    {
     "name": "stdout",
     "output_type": "stream",
     "text": [
      "CPU times: user 5h 8min 5s, sys: 5.94 s, total: 5h 8min 11s\n",
      "Wall time: 5h 8min 17s\n"
     ]
    },
    {
     "data": {
      "text/plain": [
       "SVC()"
      ]
     },
     "execution_count": 24,
     "metadata": {},
     "output_type": "execute_result"
    }
   ],
   "source": [
    "%%time\n",
    "from sklearn.svm import SVC\n",
    "clf = SVC()\n",
    "clf.fit(X_train, y_train) #, eval_set=(X_test, y_test), verbose=2)\n"
   ]
  },
  {
   "cell_type": "code",
   "execution_count": 25,
   "id": "77e0a945",
   "metadata": {
    "execution": {
     "iopub.execute_input": "2022-09-16T17:30:13.881634Z",
     "iopub.status.busy": "2022-09-16T17:30:13.881232Z",
     "iopub.status.idle": "2022-09-16T18:19:26.078794Z",
     "shell.execute_reply": "2022-09-16T18:19:26.076996Z"
    },
    "papermill": {
     "duration": 2952.222282,
     "end_time": "2022-09-16T18:19:26.088064",
     "exception": false,
     "start_time": "2022-09-16T17:30:13.865782",
     "status": "completed"
    },
    "tags": []
   },
   "outputs": [
    {
     "name": "stdout",
     "output_type": "stream",
     "text": [
      "Recall score: 0.939776867644412\n",
      "              precision    recall  f1-score   support\n",
      "\n",
      "           0       1.00      0.98      0.99     17215\n",
      "           1       0.96      0.78      0.86     13719\n",
      "           2       0.98      0.91      0.95      3108\n",
      "           3       0.99      0.97      0.98     16838\n",
      "           4       1.00      0.98      0.99     22103\n",
      "           6       0.99      0.94      0.96      8069\n",
      "           7       0.98      0.93      0.95      9665\n",
      "           9       0.95      0.97      0.96     33546\n",
      "          10       0.99      1.00      0.99    402188\n",
      "\n",
      "    accuracy                           0.99    526451\n",
      "   macro avg       0.98      0.94      0.96    526451\n",
      "weighted avg       0.99      0.99      0.99    526451\n",
      "\n",
      "CPU times: user 49min 10s, sys: 601 ms, total: 49min 11s\n",
      "Wall time: 49min 12s\n"
     ]
    }
   ],
   "source": [
    "%%time\n",
    "pred = clf.predict(X_train)\n",
    "\n",
    "score = recall_score(y_train, pred, average='macro')\n",
    "print(\"Recall score:\", score)\n",
    "print(classification_report(y_train, pred))"
   ]
  },
  {
   "cell_type": "code",
   "execution_count": 26,
   "id": "f854ee9e",
   "metadata": {
    "execution": {
     "iopub.execute_input": "2022-09-16T18:19:26.118407Z",
     "iopub.status.busy": "2022-09-16T18:19:26.117987Z",
     "iopub.status.idle": "2022-09-16T18:31:45.227423Z",
     "shell.execute_reply": "2022-09-16T18:31:45.225977Z"
    },
    "papermill": {
     "duration": 739.127294,
     "end_time": "2022-09-16T18:31:45.229919",
     "exception": false,
     "start_time": "2022-09-16T18:19:26.102625",
     "status": "completed"
    },
    "tags": []
   },
   "outputs": [
    {
     "name": "stdout",
     "output_type": "stream",
     "text": [
      "Recall score: 0.9215241016070563\n",
      "              precision    recall  f1-score   support\n",
      "\n",
      "           0       1.00      0.98      0.99      4351\n",
      "           1       0.94      0.73      0.82      3417\n",
      "           2       0.98      0.88      0.93       794\n",
      "           3       0.99      0.97      0.98      4207\n",
      "           4       0.99      0.97      0.98      5488\n",
      "           6       0.97      0.90      0.94      1938\n",
      "           7       0.96      0.89      0.92      2386\n",
      "           9       0.94      0.97      0.96      8456\n",
      "          10       0.98      1.00      0.99    100576\n",
      "\n",
      "    accuracy                           0.98    131613\n",
      "   macro avg       0.97      0.92      0.94    131613\n",
      "weighted avg       0.98      0.98      0.98    131613\n",
      "\n",
      "CPU times: user 12min 18s, sys: 126 ms, total: 12min 18s\n",
      "Wall time: 12min 19s\n"
     ]
    }
   ],
   "source": [
    "%%time\n",
    "pred = clf.predict(X_test)\n",
    "\n",
    "score = recall_score(y_test, pred, average='macro')\n",
    "print(\"Recall score:\", score)\n",
    "print(classification_report(y_test, pred))"
   ]
  },
  {
   "cell_type": "code",
   "execution_count": 27,
   "id": "69e11df0",
   "metadata": {
    "execution": {
     "iopub.execute_input": "2022-09-16T18:31:45.260618Z",
     "iopub.status.busy": "2022-09-16T18:31:45.260223Z",
     "iopub.status.idle": "2022-09-16T18:31:45.907994Z",
     "shell.execute_reply": "2022-09-16T18:31:45.906944Z"
    },
    "papermill": {
     "duration": 0.666245,
     "end_time": "2022-09-16T18:31:45.910444",
     "exception": false,
     "start_time": "2022-09-16T18:31:45.244199",
     "status": "completed"
    },
    "tags": []
   },
   "outputs": [
    {
     "data": {
      "text/plain": [
       "<Figure size 720x720 with 0 Axes>"
      ]
     },
     "metadata": {},
     "output_type": "display_data"
    },
    {
     "data": {
      "image/png": "[encoded data removed]",
      "text/plain": [
       "<Figure size 432x288 with 2 Axes>"
      ]
     },
     "metadata": {
      "needs_background": "light"
     },
     "output_type": "display_data"
    }
   ],
   "source": [
    "import seaborn as sns\n",
    "from sklearn.metrics import confusion_matrix, ConfusionMatrixDisplay\n",
    "\n",
    "plt.figure(figsize=(10,10))\n",
    "#sns.heatmap(confusion_matrix(y_test, pred), annot=True, cmap='Blues')\n",
    "#confusion_matrix(y_test, pred)\n",
    "cm = confusion_matrix(y_test, pred, labels=clf.classes_)\n",
    "disp = ConfusionMatrixDisplay(confusion_matrix=cm,\n",
    "                          display_labels=clf.classes_)\n",
    "disp.plot()\n",
    "\n",
    "plt.show()"
   ]
  },
  {
   "cell_type": "code",
   "execution_count": 28,
   "id": "7ff57457",
   "metadata": {
    "execution": {
     "iopub.execute_input": "2022-09-16T18:31:45.942917Z",
     "iopub.status.busy": "2022-09-16T18:31:45.942539Z",
     "iopub.status.idle": "2022-09-16T18:31:45.947759Z",
     "shell.execute_reply": "2022-09-16T18:31:45.946543Z"
    },
    "id": "v550JiyIdZNk",
    "papermill": {
     "duration": 0.024326,
     "end_time": "2022-09-16T18:31:45.949899",
     "exception": false,
     "start_time": "2022-09-16T18:31:45.925573",
     "status": "completed"
    },
    "tags": []
   },
   "outputs": [],
   "source": [
    "#clf = RandomForestClassifier(random_state=0)\n",
    "\n",
    "\n",
    "\n",
    "#model = linear_model.Lasso(alpha=0.1)\n",
    "\n",
    "#model = RandomForestClassifier(random_state=0, n_jobs=-1)\n",
    "\n",
    "\n",
    "#parameters = { \n",
    "#    'n_estimators': [50, 100],\n",
    "   # 'max_features': ['auto', 'sqrt', 'log2'],\n",
    "   # 'max_depth' : [75, 100, 150],\n",
    "#    'criterion' :['gini', 'entropy']\n",
    "#}\n",
    "\n",
    "\n",
    "#parameters = {'alpha': [0.01, 0.1, 1, 10, 100]}\n",
    "\n",
    "#parameters = {'n_estimators': [50, 100, 200]}\n",
    "\n",
    "#clf = GridSearchCV(model, parameters, cv=2, scoring='f1_macro', verbose=3)\n",
    "\n",
    "#clf = linear_model.RidgeClassifierCV(alphas=[0.01, 0.1, 1, 10, 100])\n",
    "\n",
    "#clf.fit(X_train, y_train.values)\n",
    "\n",
    "#print(clf.best_params_, clf.best_score_)\n",
    "#print(clf.cv_values_)"
   ]
  },
  {
   "cell_type": "code",
   "execution_count": 29,
   "id": "16fce45e",
   "metadata": {
    "execution": {
     "iopub.execute_input": "2022-09-16T18:31:45.981993Z",
     "iopub.status.busy": "2022-09-16T18:31:45.981392Z",
     "iopub.status.idle": "2022-09-16T18:31:45.985581Z",
     "shell.execute_reply": "2022-09-16T18:31:45.984654Z"
    },
    "id": "hBISnr7ndZQM",
    "outputId": "0409d517-6bcd-4a64-8d03-eec1571b8bae",
    "papermill": {
     "duration": 0.022747,
     "end_time": "2022-09-16T18:31:45.987735",
     "exception": false,
     "start_time": "2022-09-16T18:31:45.964988",
     "status": "completed"
    },
    "tags": []
   },
   "outputs": [],
   "source": [
    "#from catboost import CatBoostClassifier\n",
    "#clf.fit(X_train, y_train)\n",
    "#clf = RandomForestClassifier(n_estimators=70, random_state=0, criterion='entropy', n_jobs=-1, verbose=3)\n",
    "#clf.fit(X_train, y_train)#, verbose=150)\n",
    "#clf = CatBoostClassifier(depth=4, learning_rate=0.1, random_seed=0, early_stopping_rounds=30, n_estimators=10000)\n",
    "#clf.fit(X_train, y_train, eval_set=(X_test, y_test), verbose=50)"
   ]
  },
  {
   "cell_type": "code",
   "execution_count": 30,
   "id": "1de96a40",
   "metadata": {
    "execution": {
     "iopub.execute_input": "2022-09-16T18:31:46.019943Z",
     "iopub.status.busy": "2022-09-16T18:31:46.018859Z",
     "iopub.status.idle": "2022-09-16T18:31:46.023992Z",
     "shell.execute_reply": "2022-09-16T18:31:46.023225Z"
    },
    "id": "OaySnwRzejpc",
    "outputId": "2c5934d5-86ec-42d2-820b-c6ad85bf2702",
    "papermill": {
     "duration": 0.023547,
     "end_time": "2022-09-16T18:31:46.026221",
     "exception": false,
     "start_time": "2022-09-16T18:31:46.002674",
     "status": "completed"
    },
    "tags": []
   },
   "outputs": [],
   "source": [
    "\n",
    "#pred = clf.predict(X_test)\n",
    "\n",
    "#score = recall_score(y_test, pred, average='macro')\n",
    "#print(\"Recall score:\", score)\n",
    "#print(classification_report(y_test, pred))\n",
    "\n",
    "# v1 Recall score: 0.8646271211302988\n",
    "# v2 Recall score: 0.9055411826597728\n",
    "# Recall score: 0.9074533505833097\n",
    "\n",
    "\n",
    "\n",
    "# Recall score: 0.9326956958405973"
   ]
  },
  {
   "cell_type": "markdown",
   "id": "edeaa2ef",
   "metadata": {
    "papermill": {
     "duration": 0.014768,
     "end_time": "2022-09-16T18:31:46.056005",
     "exception": false,
     "start_time": "2022-09-16T18:31:46.041237",
     "status": "completed"
    },
    "tags": []
   },
   "source": [
    "# Test test test!"
   ]
  },
  {
   "cell_type": "code",
   "execution_count": 31,
   "id": "a2b8be3f",
   "metadata": {
    "execution": {
     "iopub.execute_input": "2022-09-16T18:31:46.088129Z",
     "iopub.status.busy": "2022-09-16T18:31:46.087148Z",
     "iopub.status.idle": "2022-09-16T18:31:46.091815Z",
     "shell.execute_reply": "2022-09-16T18:31:46.090746Z"
    },
    "papermill": {
     "duration": 0.023203,
     "end_time": "2022-09-16T18:31:46.094155",
     "exception": false,
     "start_time": "2022-09-16T18:31:46.070952",
     "status": "completed"
    },
    "tags": []
   },
   "outputs": [],
   "source": [
    "#testdf = pd.read_csv(\"../input/saratovtestdata/test_dataset_test.csv\")\n",
    "#testdf"
   ]
  },
  {
   "cell_type": "code",
   "execution_count": 32,
   "id": "e722d191",
   "metadata": {
    "execution": {
     "iopub.execute_input": "2022-09-16T18:31:46.126601Z",
     "iopub.status.busy": "2022-09-16T18:31:46.125459Z",
     "iopub.status.idle": "2022-09-16T18:31:46.977205Z",
     "shell.execute_reply": "2022-09-16T18:31:46.975999Z"
    },
    "papermill": {
     "duration": 0.87029,
     "end_time": "2022-09-16T18:31:46.979589",
     "exception": false,
     "start_time": "2022-09-16T18:31:46.109299",
     "status": "completed"
    },
    "tags": []
   },
   "outputs": [
    {
     "data": {
      "text/plain": [
       "(282227, 2)"
      ]
     },
     "execution_count": 32,
     "metadata": {},
     "output_type": "execute_result"
    }
   ],
   "source": [
    "testdf = pd.read_csv(\"../input/saratovtestdata-new/test_dataset_saratov.csv\")\n",
    "testdf.shape"
   ]
  },
  {
   "cell_type": "code",
   "execution_count": 33,
   "id": "39e1c1c8",
   "metadata": {
    "execution": {
     "iopub.execute_input": "2022-09-16T18:31:47.012161Z",
     "iopub.status.busy": "2022-09-16T18:31:47.011715Z",
     "iopub.status.idle": "2022-09-16T18:31:47.026935Z",
     "shell.execute_reply": "2022-09-16T18:31:47.025850Z"
    },
    "papermill": {
     "duration": 0.034435,
     "end_time": "2022-09-16T18:31:47.029448",
     "exception": false,
     "start_time": "2022-09-16T18:31:46.995013",
     "status": "completed"
    },
    "tags": []
   },
   "outputs": [
    {
     "data": {
      "text/html": [
       "<div>\n",
       "<style scoped>\n",
       "    .dataframe tbody tr th:only-of-type {\n",
       "        vertical-align: middle;\n",
       "    }\n",
       "\n",
       "    .dataframe tbody tr th {\n",
       "        vertical-align: top;\n",
       "    }\n",
       "\n",
       "    .dataframe thead th {\n",
       "        text-align: right;\n",
       "    }\n",
       "</style>\n",
       "<table border=\"1\" class=\"dataframe\">\n",
       "  <thead>\n",
       "    <tr style=\"text-align: right;\">\n",
       "      <th></th>\n",
       "      <th>id</th>\n",
       "      <th>name</th>\n",
       "    </tr>\n",
       "  </thead>\n",
       "  <tbody>\n",
       "    <tr>\n",
       "      <th>0</th>\n",
       "      <td>10529</td>\n",
       "      <td>КАРАМЕЛЬ \"ЛАКОМКА-СУПЕРМОЛОЧНАЯ\" ВЕС (РОТ ФРОНТ)</td>\n",
       "    </tr>\n",
       "    <tr>\n",
       "      <th>1</th>\n",
       "      <td>10530</td>\n",
       "      <td>2: 3637233 РАЭ Масло ТРАДИЦ.слив.82,5% 1</td>\n",
       "    </tr>\n",
       "    <tr>\n",
       "      <th>2</th>\n",
       "      <td>10531</td>\n",
       "      <td>960012-LG NS  Бинт эластичный Classic лаймовый...</td>\n",
       "    </tr>\n",
       "    <tr>\n",
       "      <th>3</th>\n",
       "      <td>10532</td>\n",
       "      <td>Вода мин. 1.5л пл/у (Сахалинская)</td>\n",
       "    </tr>\n",
       "    <tr>\n",
       "      <th>4</th>\n",
       "      <td>10533</td>\n",
       "      <td>Ролики натяжителя ремня AMD.GTA0740 AMD</td>\n",
       "    </tr>\n",
       "    <tr>\n",
       "      <th>...</th>\n",
       "      <td>...</td>\n",
       "      <td>...</td>\n",
       "    </tr>\n",
       "    <tr>\n",
       "      <th>282222</th>\n",
       "      <td>292751</td>\n",
       "      <td>Пельмени Московские Пижанка 800г</td>\n",
       "    </tr>\n",
       "    <tr>\n",
       "      <th>282223</th>\n",
       "      <td>292752</td>\n",
       "      <td>Активиа 135гр Пробиотик малина</td>\n",
       "    </tr>\n",
       "    <tr>\n",
       "      <th>282224</th>\n",
       "      <td>292753</td>\n",
       "      <td>Базилик овощной</td>\n",
       "    </tr>\n",
       "    <tr>\n",
       "      <th>282225</th>\n",
       "      <td>292754</td>\n",
       "      <td>JACOBS Millicano Кофе Crema Espresso раств с мол</td>\n",
       "    </tr>\n",
       "    <tr>\n",
       "      <th>282226</th>\n",
       "      <td>292755</td>\n",
       "      <td>ШЕБА плежур Форель, Креветки 85г</td>\n",
       "    </tr>\n",
       "  </tbody>\n",
       "</table>\n",
       "<p>282227 rows × 2 columns</p>\n",
       "</div>"
      ],
      "text/plain": [
       "            id                                               name\n",
       "0        10529   КАРАМЕЛЬ \"ЛАКОМКА-СУПЕРМОЛОЧНАЯ\" ВЕС (РОТ ФРОНТ)\n",
       "1        10530           2: 3637233 РАЭ Масло ТРАДИЦ.слив.82,5% 1\n",
       "2        10531  960012-LG NS  Бинт эластичный Classic лаймовый...\n",
       "3        10532                  Вода мин. 1.5л пл/у (Сахалинская)\n",
       "4        10533            Ролики натяжителя ремня AMD.GTA0740 AMD\n",
       "...        ...                                                ...\n",
       "282222  292751                   Пельмени Московские Пижанка 800г\n",
       "282223  292752                     Активиа 135гр Пробиотик малина\n",
       "282224  292753                                    Базилик овощной\n",
       "282225  292754   JACOBS Millicano Кофе Crema Espresso раств с мол\n",
       "282226  292755                   ШЕБА плежур Форель, Креветки 85г\n",
       "\n",
       "[282227 rows x 2 columns]"
      ]
     },
     "execution_count": 33,
     "metadata": {},
     "output_type": "execute_result"
    }
   ],
   "source": [
    "testdf"
   ]
  },
  {
   "cell_type": "code",
   "execution_count": 34,
   "id": "6f46676f",
   "metadata": {
    "execution": {
     "iopub.execute_input": "2022-09-16T18:31:47.063146Z",
     "iopub.status.busy": "2022-09-16T18:31:47.062739Z",
     "iopub.status.idle": "2022-09-16T18:31:47.128274Z",
     "shell.execute_reply": "2022-09-16T18:31:47.127012Z"
    },
    "papermill": {
     "duration": 0.08563,
     "end_time": "2022-09-16T18:31:47.131068",
     "exception": false,
     "start_time": "2022-09-16T18:31:47.045438",
     "status": "completed"
    },
    "tags": []
   },
   "outputs": [
    {
     "data": {
      "text/plain": [
       "(282227, 2)"
      ]
     },
     "execution_count": 34,
     "metadata": {},
     "output_type": "execute_result"
    }
   ],
   "source": [
    "testdf.isna().sum()\n",
    "testdf.dropna(axis=0, inplace=True)\n",
    "testdf.shape"
   ]
  },
  {
   "cell_type": "code",
   "execution_count": 35,
   "id": "3e5b1881",
   "metadata": {
    "execution": {
     "iopub.execute_input": "2022-09-16T18:31:47.164895Z",
     "iopub.status.busy": "2022-09-16T18:31:47.164492Z",
     "iopub.status.idle": "2022-09-16T18:31:47.799925Z",
     "shell.execute_reply": "2022-09-16T18:31:47.798673Z"
    },
    "papermill": {
     "duration": 0.655756,
     "end_time": "2022-09-16T18:31:47.802657",
     "exception": false,
     "start_time": "2022-09-16T18:31:47.146901",
     "status": "completed"
    },
    "tags": []
   },
   "outputs": [],
   "source": [
    "testdf[\"milk_percent\"] = testdf.name.apply(lambda text: 1 if re.match(r'.+(3\\.2)|(2\\.5).+', text) else 0)"
   ]
  },
  {
   "cell_type": "code",
   "execution_count": 36,
   "id": "972ef836",
   "metadata": {
    "execution": {
     "iopub.execute_input": "2022-09-16T18:31:47.836562Z",
     "iopub.status.busy": "2022-09-16T18:31:47.836154Z",
     "iopub.status.idle": "2022-09-16T18:31:50.193478Z",
     "shell.execute_reply": "2022-09-16T18:31:50.192204Z"
    },
    "papermill": {
     "duration": 2.377082,
     "end_time": "2022-09-16T18:31:50.196011",
     "exception": false,
     "start_time": "2022-09-16T18:31:47.818929",
     "status": "completed"
    },
    "tags": []
   },
   "outputs": [
    {
     "data": {
      "text/plain": [
       "0         [КАРАМЕЛЬ, \"ЛАКОМКА-СУПЕРМОЛОЧНАЯ\", ВЕС, (РОТ,...\n",
       "1         [2:, 3637233, РАЭ, Масло, ТРАДИЦ, слив, 82, 5%...\n",
       "2         [960012-LG, NS, , Бинт, эластичный, Classic, л...\n",
       "3                 [Вода, мин, , 1, 5л, пл/у, (Сахалинская)]\n",
       "4            [Ролики, натяжителя, ремня, AMD, GTA0740, AMD]\n",
       "                                ...                        \n",
       "282222                [Пельмени, Московские, Пижанка, 800г]\n",
       "282223                  [Активиа, 135гр, Пробиотик, малина]\n",
       "282224                                   [Базилик, овощной]\n",
       "282225    [JACOBS, Millicano, Кофе, Crema, Espresso, рас...\n",
       "282226              [ШЕБА, плежур, Форель, , Креветки, 85г]\n",
       "Name: name, Length: 282227, dtype: object"
      ]
     },
     "execution_count": 36,
     "metadata": {},
     "output_type": "execute_result"
    }
   ],
   "source": [
    "df_test_splited = testdf.name.str.split(r\"\\.|,| \")\n",
    "df_test_splited"
   ]
  },
  {
   "cell_type": "code",
   "execution_count": 37,
   "id": "fb3f9229",
   "metadata": {
    "execution": {
     "iopub.execute_input": "2022-09-16T18:31:50.230072Z",
     "iopub.status.busy": "2022-09-16T18:31:50.229670Z",
     "iopub.status.idle": "2022-09-16T18:31:55.867107Z",
     "shell.execute_reply": "2022-09-16T18:31:55.865595Z"
    },
    "papermill": {
     "duration": 5.659225,
     "end_time": "2022-09-16T18:31:55.871074",
     "exception": false,
     "start_time": "2022-09-16T18:31:50.211849",
     "status": "completed"
    },
    "tags": []
   },
   "outputs": [
    {
     "name": "stdout",
     "output_type": "stream",
     "text": [
      "CPU times: user 5.6 s, sys: 33 ms, total: 5.63 s\n",
      "Wall time: 5.63 s\n"
     ]
    }
   ],
   "source": [
    "%%time\n",
    "testdf[\"lemmed_text\"] = df_test_splited.apply(lambda a: text_processing(a))"
   ]
  },
  {
   "cell_type": "code",
   "execution_count": 38,
   "id": "e653afa7",
   "metadata": {
    "execution": {
     "iopub.execute_input": "2022-09-16T18:31:55.906171Z",
     "iopub.status.busy": "2022-09-16T18:31:55.905139Z",
     "iopub.status.idle": "2022-09-16T18:31:57.797840Z",
     "shell.execute_reply": "2022-09-16T18:31:57.796622Z"
    },
    "papermill": {
     "duration": 1.912616,
     "end_time": "2022-09-16T18:31:57.800854",
     "exception": false,
     "start_time": "2022-09-16T18:31:55.888238",
     "status": "completed"
    },
    "tags": []
   },
   "outputs": [],
   "source": [
    "XX_test = vectorizer.transform(testdf.lemmed_text)"
   ]
  },
  {
   "cell_type": "code",
   "execution_count": 39,
   "id": "4ab56142",
   "metadata": {
    "execution": {
     "iopub.execute_input": "2022-09-16T18:31:57.834693Z",
     "iopub.status.busy": "2022-09-16T18:31:57.834298Z",
     "iopub.status.idle": "2022-09-16T18:31:57.839194Z",
     "shell.execute_reply": "2022-09-16T18:31:57.838320Z"
    },
    "papermill": {
     "duration": 0.024423,
     "end_time": "2022-09-16T18:31:57.841301",
     "exception": false,
     "start_time": "2022-09-16T18:31:57.816878",
     "status": "completed"
    },
    "tags": []
   },
   "outputs": [],
   "source": [
    "#XX_test = hstack([XX_test, coo_matrix(df.head(10000).milk_percent.values).transpose()])"
   ]
  },
  {
   "cell_type": "code",
   "execution_count": 40,
   "id": "62e3269b",
   "metadata": {
    "execution": {
     "iopub.execute_input": "2022-09-16T18:31:57.874356Z",
     "iopub.status.busy": "2022-09-16T18:31:57.873547Z",
     "iopub.status.idle": "2022-09-16T18:57:59.968631Z",
     "shell.execute_reply": "2022-09-16T18:57:59.967327Z"
    },
    "papermill": {
     "duration": 1562.128576,
     "end_time": "2022-09-16T18:57:59.985418",
     "exception": false,
     "start_time": "2022-09-16T18:31:57.856842",
     "status": "completed"
    },
    "tags": []
   },
   "outputs": [
    {
     "data": {
      "text/plain": [
       "array([10, 10, 10, ..., 10, 10, 10])"
      ]
     },
     "execution_count": 40,
     "metadata": {},
     "output_type": "execute_result"
    }
   ],
   "source": [
    "pred = clf.predict(XX_test)\n",
    "pred"
   ]
  },
  {
   "cell_type": "code",
   "execution_count": 41,
   "id": "96993cf1",
   "metadata": {
    "execution": {
     "iopub.execute_input": "2022-09-16T18:58:00.018524Z",
     "iopub.status.busy": "2022-09-16T18:58:00.018077Z",
     "iopub.status.idle": "2022-09-16T18:58:00.025013Z",
     "shell.execute_reply": "2022-09-16T18:58:00.024052Z"
    },
    "papermill": {
     "duration": 0.026617,
     "end_time": "2022-09-16T18:58:00.027586",
     "exception": false,
     "start_time": "2022-09-16T18:58:00.000969",
     "status": "completed"
    },
    "tags": []
   },
   "outputs": [],
   "source": [
    "testdf[\"groups\"] = pred"
   ]
  },
  {
   "cell_type": "code",
   "execution_count": 42,
   "id": "96eece59",
   "metadata": {
    "execution": {
     "iopub.execute_input": "2022-09-16T18:58:00.061119Z",
     "iopub.status.busy": "2022-09-16T18:58:00.060734Z",
     "iopub.status.idle": "2022-09-16T18:58:00.066472Z",
     "shell.execute_reply": "2022-09-16T18:58:00.065326Z"
    },
    "papermill": {
     "duration": 0.025596,
     "end_time": "2022-09-16T18:58:00.069064",
     "exception": false,
     "start_time": "2022-09-16T18:58:00.043468",
     "status": "completed"
    },
    "tags": []
   },
   "outputs": [
    {
     "name": "stdout",
     "output_type": "stream",
     "text": [
      "(282227, 5)\n"
     ]
    }
   ],
   "source": [
    "print(testdf.shape)"
   ]
  },
  {
   "cell_type": "code",
   "execution_count": 43,
   "id": "8a6c718a",
   "metadata": {
    "execution": {
     "iopub.execute_input": "2022-09-16T18:58:00.107435Z",
     "iopub.status.busy": "2022-09-16T18:58:00.106320Z",
     "iopub.status.idle": "2022-09-16T18:58:00.440652Z",
     "shell.execute_reply": "2022-09-16T18:58:00.439757Z"
    },
    "papermill": {
     "duration": 0.355762,
     "end_time": "2022-09-16T18:58:00.443287",
     "exception": false,
     "start_time": "2022-09-16T18:58:00.087525",
     "status": "completed"
    },
    "tags": []
   },
   "outputs": [],
   "source": [
    "subm = testdf[[\"id\", \"groups\"]]\n",
    "subm.to_csv(\"solution_saratov_160922_1100.csv\", index=False)"
   ]
  },
  {
   "cell_type": "code",
   "execution_count": 44,
   "id": "af200917",
   "metadata": {
    "execution": {
     "iopub.execute_input": "2022-09-16T18:58:00.477091Z",
     "iopub.status.busy": "2022-09-16T18:58:00.476364Z",
     "iopub.status.idle": "2022-09-16T18:58:00.482902Z",
     "shell.execute_reply": "2022-09-16T18:58:00.481346Z"
    },
    "papermill": {
     "duration": 0.027205,
     "end_time": "2022-09-16T18:58:00.486302",
     "exception": false,
     "start_time": "2022-09-16T18:58:00.459097",
     "status": "completed"
    },
    "tags": []
   },
   "outputs": [
    {
     "name": "stdout",
     "output_type": "stream",
     "text": [
      "(282227, 2)\n"
     ]
    }
   ],
   "source": [
    "print(subm.shape)"
   ]
  }
 ],
 "metadata": {
  "kernelspec": {
   "display_name": "Python 3",
   "language": "python",
   "name": "python3"
  },
  "language_info": {
   "codemirror_mode": {
    "name": "ipython",
    "version": 3
   },
   "file_extension": ".py",
   "mimetype": "text/x-python",
   "name": "python",
   "nbconvert_exporter": "python",
   "pygments_lexer": "ipython3",
   "version": "3.7.12"
  },
  "papermill": {
   "default_parameters": {},
   "duration": 23819.072418,
   "end_time": "2022-09-16T18:58:02.731349",
   "environment_variables": {},
   "exception": null,
   "input_path": "__notebook__.ipynb",
   "output_path": "__notebook__.ipynb",
   "parameters": {},
   "start_time": "2022-09-16T12:21:03.658931",
   "version": "2.3.4"
  }
 },
 "nbformat": 4,
 "nbformat_minor": 5
}
